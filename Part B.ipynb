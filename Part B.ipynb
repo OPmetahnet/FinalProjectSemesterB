{
 "cells": [
  {
   "cell_type": "code",
   "execution_count": 8,
   "metadata": {},
   "outputs": [],
   "source": [
    "import pandas as pd\n",
    "import numpy as np\n",
    "import matplotlib.pyplot as plt\n",
    "import seaborn as sns\n",
    "import glob\n",
    "from sklearn.decomposition import PCA\n",
    "import pandas.util.testing as tm\n",
    "import pickle"
   ]
  },
  {
   "cell_type": "code",
   "execution_count": 9,
   "metadata": {},
   "outputs": [],
   "source": [
    "def combine_rows(df):\n",
    "    cols = df.columns\n",
    "    df = df.groupby(df.index//NUM_OF_RECORDS_PER_SAMPLE)[cols].apply(lambda x: pd.DataFrame(x.values)).unstack().reset_index()\n",
    "    df.columns = df.columns.droplevel()\n",
    "    new_cols = [\"index\"]\n",
    "    for col in cols:\n",
    "        for i in range(NUM_OF_RECORDS_PER_SAMPLE):\n",
    "            new_cols.append(col+str(i)) \n",
    "        \n",
    "    df.columns = new_cols\n",
    "    not_important_features = [\"index\"]\n",
    "    features = [\"Time\",\"Frame ID\",\"state_type\",\"name\",\"Hand Type\",\"# hands\"]\n",
    "    for f in features:\n",
    "        for s in new_cols:\n",
    "            if f in s:\n",
    "                df[f] = df[s]\n",
    "                not_important_features.append(s)\n",
    "    df = df.drop(not_important_features,axis=1)\n",
    "    numeric_featers = [x for x in df.columns if x not in features]\n",
    "    df[numeric_featers] = df[numeric_featers].apply(pd.to_numeric)\n",
    "    return df"
   ]
  },
  {
   "cell_type": "code",
   "execution_count": 10,
   "metadata": {},
   "outputs": [],
   "source": [
    "def get_state_type(filename):\n",
    "    state_type = 3\n",
    "    if 'Spontan' in filename:\n",
    "        state_type = 1\n",
    "    elif 'Sync' in filename:\n",
    "        state_type = 2\n",
    "    return state_type\n",
    "\n",
    "def handle_right_hand_file(df):\n",
    "    alone_right = pd.read_csv(\"HandRight.csv\",index_col=None, header=0)\n",
    "    alone_right.rename(columns=lambda x: x.strip(), inplace=True)\n",
    "    alone_right[\"state_type\"] = 3\n",
    "    alone_right[\"name\"] = \"\"\n",
    "    return df"
   ]
  },
  {
   "cell_type": "code",
   "execution_count": 12,
   "metadata": {},
   "outputs": [],
   "source": [
    "def combine_datasets(path):\n",
    "    all_files = glob.glob(path)\n",
    "    lst = []\n",
    "    for filename in all_files:\n",
    "        df = pd.read_csv(filename, index_col=None, header=0)\n",
    "        df.rename(columns=lambda x: x.strip(), inplace=True)        \n",
    "        df['state'] = define_state(filename)\n",
    "        start_time = df[\"Time\"].min()\n",
    "        df = df[df[\"Time\"]>start_time+7]\n",
    "        df = combine_rows(df)\n",
    "        df[\"Time\"] = df[\"Time\"].astype(\"float\")\n",
    "        df = df[df['state'].notna()]\n",
    "        df[\"state\"] = df[\"state\"].astype(\"int\")\n",
    "        lst.append(df)   \n",
    "    df = pd.concat(lst, axis=0, ignore_index=True)\n",
    "    df = hand_right_file(df)\n",
    "    return df"
   ]
  },
  {
   "cell_type": "code",
   "execution_count": null,
   "metadata": {},
   "outputs": [],
   "source": []
  }
 ],
 "metadata": {
  "kernelspec": {
   "display_name": "Python 3",
   "language": "python",
   "name": "python3"
  },
  "language_info": {
   "codemirror_mode": {
    "name": "ipython",
    "version": 3
   },
   "file_extension": ".py",
   "mimetype": "text/x-python",
   "name": "python",
   "nbconvert_exporter": "python",
   "pygments_lexer": "ipython3",
   "version": "3.7.4"
  }
 },
 "nbformat": 4,
 "nbformat_minor": 2
}
